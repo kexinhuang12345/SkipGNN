{
 "cells": [
  {
   "cell_type": "code",
   "execution_count": 1,
   "metadata": {},
   "outputs": [],
   "source": [
    "import os\n",
    "os.chdir('../../code')"
   ]
  },
  {
   "cell_type": "code",
   "execution_count": 3,
   "metadata": {
    "scrolled": true
   },
   "outputs": [
    {
     "name": "stdout",
     "output_type": "stream",
     "text": [
      "Loading DTI dataset...\n",
      "Start Training...\n",
      "-------- Epoch 1 --------\n",
      "epoch: 1/ iteration: 1/ loss_train: 0.6957706212997437\n",
      "epoch: 0001 loss_train: 0.5522 auroc_train: 0.8214 loss_val: 0.4723 auroc_val: 0.8704 auprc_val: 0.8774 f1_val: 0.7357 time: 21.7635s\n",
      "-------- Epoch 2 --------\n",
      "epoch: 2/ iteration: 1/ loss_train: 0.5089653730392456\n",
      "epoch: 0002 loss_train: 0.3662 auroc_train: 0.9132 loss_val: 0.4196 auroc_val: 0.9049 auprc_val: 0.9064 f1_val: 0.7668 time: 21.6888s\n",
      "-------- Epoch 3 --------\n",
      "epoch: 3/ iteration: 1/ loss_train: 0.34674370288848877\n",
      "epoch: 0003 loss_train: 0.3526 auroc_train: 0.9304 loss_val: 0.3931 auroc_val: 0.9044 auprc_val: 0.9041 f1_val: 0.7914 time: 21.6569s\n",
      "-------- Epoch 4 --------\n",
      "epoch: 4/ iteration: 1/ loss_train: 0.4223778247833252\n",
      "epoch: 0004 loss_train: 0.3563 auroc_train: 0.9384 loss_val: 0.3393 auroc_val: 0.9105 auprc_val: 0.9142 f1_val: 0.8130 time: 21.7592s\n",
      "-------- Epoch 5 --------\n",
      "epoch: 5/ iteration: 1/ loss_train: 0.27862757444381714\n",
      "epoch: 0005 loss_train: 0.3947 auroc_train: 0.9403 loss_val: 0.4528 auroc_val: 0.9116 auprc_val: 0.9117 f1_val: 0.8005 time: 21.7038s\n",
      "-------- Epoch 6 --------\n",
      "epoch: 6/ iteration: 1/ loss_train: 0.3193015456199646\n",
      "epoch: 0006 loss_train: 0.5089 auroc_train: 0.9468 loss_val: 0.3889 auroc_val: 0.9150 auprc_val: 0.9139 f1_val: 0.8252 time: 21.7267s\n",
      "-------- Epoch 7 --------\n",
      "epoch: 7/ iteration: 1/ loss_train: 0.2887164056301117\n",
      "epoch: 0007 loss_train: 0.2834 auroc_train: 0.9499 loss_val: 0.3549 auroc_val: 0.9181 auprc_val: 0.9153 f1_val: 0.7990 time: 21.7607s\n",
      "-------- Epoch 8 --------\n",
      "epoch: 8/ iteration: 1/ loss_train: 0.3566020131111145\n",
      "epoch: 0008 loss_train: 0.2683 auroc_train: 0.9528 loss_val: 0.3905 auroc_val: 0.9089 auprc_val: 0.9095 f1_val: 0.8066 time: 21.7422s\n",
      "-------- Epoch 9 --------\n",
      "epoch: 9/ iteration: 1/ loss_train: 0.3854106664657593\n",
      "epoch: 0009 loss_train: 0.2970 auroc_train: 0.9517 loss_val: 0.4347 auroc_val: 0.9081 auprc_val: 0.9105 f1_val: 0.7924 time: 21.6705s\n",
      "-------- Epoch 10 --------\n",
      "epoch: 10/ iteration: 1/ loss_train: 0.2821248769760132\n",
      "epoch: 0010 loss_train: 0.3613 auroc_train: 0.9533 loss_val: 0.4449 auroc_val: 0.9060 auprc_val: 0.9077 f1_val: 0.8063 time: 21.7469s\n",
      "-------- Epoch 11 --------\n",
      "epoch: 11/ iteration: 1/ loss_train: 0.33617088198661804\n",
      "epoch: 0011 loss_train: 0.3435 auroc_train: 0.9562 loss_val: 0.4337 auroc_val: 0.9089 auprc_val: 0.9067 f1_val: 0.8106 time: 21.5712s\n",
      "-------- Epoch 12 --------\n",
      "epoch: 12/ iteration: 1/ loss_train: 0.25947022438049316\n",
      "epoch: 0012 loss_train: 0.2500 auroc_train: 0.9578 loss_val: 0.4783 auroc_val: 0.9082 auprc_val: 0.9072 f1_val: 0.8146 time: 21.7754s\n",
      "-------- Epoch 13 --------\n",
      "epoch: 13/ iteration: 1/ loss_train: 0.2909877598285675\n",
      "epoch: 0013 loss_train: 0.2680 auroc_train: 0.9572 loss_val: 0.3512 auroc_val: 0.9101 auprc_val: 0.9109 f1_val: 0.8224 time: 21.6607s\n",
      "-------- Epoch 14 --------\n",
      "epoch: 14/ iteration: 1/ loss_train: 0.35890138149261475\n",
      "epoch: 0014 loss_train: 0.3827 auroc_train: 0.9594 loss_val: 0.5722 auroc_val: 0.9046 auprc_val: 0.9050 f1_val: 0.7971 time: 21.6645s\n",
      "-------- Epoch 15 --------\n",
      "epoch: 15/ iteration: 1/ loss_train: 0.34083375334739685\n",
      "epoch: 0015 loss_train: 0.3472 auroc_train: 0.9587 loss_val: 0.3792 auroc_val: 0.9081 auprc_val: 0.9076 f1_val: 0.8046 time: 21.6341s\n",
      "Optimization Finished!\n",
      "Total time elapsed: 325.5810s\n",
      "loss_test: 0.4383 auroc_test: 0.9207 auprc_test: 0.9106 f1_test: 0.7985\n"
     ]
    }
   ],
   "source": [
    "!python train_link_prediction_IGCN_node_feat.py \\\n",
    "    --epochs 15 \\\n",
    "    --lr 5e-4 \\\n",
    "    --batch_size 256 \\\n",
    "    --hidden1 64 \\\n",
    "    --hidden2 16 \\\n",
    "    --hidden_decode1 512 \\\n",
    "    --network_type DTI \\\n",
    "    --data_path '../../../../scratch/kh2383/IGCN/data/DTI/BIOSNAP/fold2'"
   ]
  },
  {
   "cell_type": "code",
   "execution_count": null,
   "metadata": {},
   "outputs": [],
   "source": []
  },
  {
   "cell_type": "code",
   "execution_count": null,
   "metadata": {},
   "outputs": [],
   "source": []
  },
  {
   "cell_type": "code",
   "execution_count": 3,
   "metadata": {
    "scrolled": true
   },
   "outputs": [
    {
     "name": "stdout",
     "output_type": "stream",
     "text": [
      "Loading DDI dataset...\n",
      "Start Training...\n",
      "-------- Epoch 1 --------\n",
      "epoch: 1/ iteration: 1/ loss_train: 0.6931016445159912\n",
      "epoch: 1/ iteration: 101/ loss_train: 0.4772087335586548\n",
      "epoch: 1/ iteration: 201/ loss_train: 0.47192054986953735\n",
      "epoch: 0001 loss_train: 0.4039 auroc_train: 0.8574 loss_val: 0.3807 auroc_val: 0.8761 auprc_val: 0.8569 f1_val: 0.7893 time: 265.2426s\n",
      "-------- Epoch 2 --------\n",
      "epoch: 2/ iteration: 1/ loss_train: 0.49792754650115967\n",
      "epoch: 2/ iteration: 101/ loss_train: 0.4264547526836395\n",
      "epoch: 2/ iteration: 201/ loss_train: 0.44710057973861694\n",
      "epoch: 0002 loss_train: 0.4307 auroc_train: 0.8808 loss_val: 0.4013 auroc_val: 0.8772 auprc_val: 0.8566 f1_val: 0.7469 time: 265.3582s\n",
      "-------- Epoch 3 --------\n",
      "epoch: 3/ iteration: 1/ loss_train: 0.49361470341682434\n",
      "epoch: 3/ iteration: 101/ loss_train: 0.4156465530395508\n",
      "epoch: 3/ iteration: 201/ loss_train: 0.35302209854125977\n",
      "epoch: 0003 loss_train: 0.4578 auroc_train: 0.8836 loss_val: 0.4987 auroc_val: 0.8797 auprc_val: 0.8592 f1_val: 0.7914 time: 265.4335s\n",
      "-------- Epoch 4 --------\n",
      "epoch: 4/ iteration: 1/ loss_train: 0.3997017741203308\n",
      "epoch: 4/ iteration: 101/ loss_train: 0.3990182876586914\n",
      "epoch: 4/ iteration: 201/ loss_train: 0.4204524755477905\n",
      "epoch: 0004 loss_train: 0.4482 auroc_train: 0.8836 loss_val: 0.4160 auroc_val: 0.8788 auprc_val: 0.8586 f1_val: 0.7839 time: 265.0356s\n",
      "-------- Epoch 5 --------\n",
      "epoch: 5/ iteration: 1/ loss_train: 0.42794936895370483\n",
      "epoch: 5/ iteration: 101/ loss_train: 0.4395299255847931\n",
      "epoch: 5/ iteration: 201/ loss_train: 0.3646966814994812\n",
      "epoch: 0005 loss_train: 0.4116 auroc_train: 0.8845 loss_val: 0.4688 auroc_val: 0.8792 auprc_val: 0.8588 f1_val: 0.7921 time: 265.1723s\n",
      "-------- Epoch 6 --------\n",
      "epoch: 6/ iteration: 1/ loss_train: 0.4365639388561249\n",
      "epoch: 6/ iteration: 101/ loss_train: 0.40727782249450684\n",
      "epoch: 6/ iteration: 201/ loss_train: 0.4746440649032593\n",
      "epoch: 0006 loss_train: 0.4729 auroc_train: 0.8845 loss_val: 0.4629 auroc_val: 0.8800 auprc_val: 0.8575 f1_val: 0.7928 time: 265.7190s\n",
      "-------- Epoch 7 --------\n",
      "epoch: 7/ iteration: 1/ loss_train: 0.42533695697784424\n",
      "epoch: 7/ iteration: 101/ loss_train: 0.44460853934288025\n",
      "epoch: 7/ iteration: 201/ loss_train: 0.405758261680603\n",
      "epoch: 0007 loss_train: 0.4782 auroc_train: 0.8848 loss_val: 0.3855 auroc_val: 0.8806 auprc_val: 0.8602 f1_val: 0.8003 time: 253.8721s\n",
      "-------- Epoch 8 --------\n",
      "epoch: 8/ iteration: 1/ loss_train: 0.4339492619037628\n",
      "epoch: 8/ iteration: 101/ loss_train: 0.46665719151496887\n",
      "epoch: 8/ iteration: 201/ loss_train: 0.4457792639732361\n",
      "epoch: 0008 loss_train: 0.4361 auroc_train: 0.8857 loss_val: 0.4572 auroc_val: 0.8810 auprc_val: 0.8598 f1_val: 0.8007 time: 265.4589s\n",
      "-------- Epoch 9 --------\n",
      "epoch: 9/ iteration: 1/ loss_train: 0.49029529094696045\n",
      "epoch: 9/ iteration: 101/ loss_train: 0.3873986005783081\n",
      "epoch: 9/ iteration: 201/ loss_train: 0.44652602076530457\n",
      "epoch: 0009 loss_train: 0.4753 auroc_train: 0.8856 loss_val: 0.4918 auroc_val: 0.8815 auprc_val: 0.8609 f1_val: 0.7980 time: 265.5811s\n",
      "-------- Epoch 10 --------\n",
      "epoch: 10/ iteration: 1/ loss_train: 0.3842143416404724\n",
      "epoch: 10/ iteration: 101/ loss_train: 0.4245702028274536\n",
      "epoch: 10/ iteration: 201/ loss_train: 0.4424358904361725\n",
      "epoch: 0010 loss_train: 0.4080 auroc_train: 0.8865 loss_val: 0.5838 auroc_val: 0.8810 auprc_val: 0.8598 f1_val: 0.7990 time: 265.6031s\n",
      "-------- Epoch 11 --------\n",
      "epoch: 11/ iteration: 1/ loss_train: 0.410799115896225\n",
      "epoch: 11/ iteration: 101/ loss_train: 0.45094454288482666\n",
      "epoch: 11/ iteration: 201/ loss_train: 0.4388330578804016\n",
      "epoch: 0011 loss_train: 0.4242 auroc_train: 0.8859 loss_val: 0.4061 auroc_val: 0.8814 auprc_val: 0.8598 f1_val: 0.7873 time: 265.6385s\n",
      "-------- Epoch 12 --------\n",
      "epoch: 12/ iteration: 1/ loss_train: 0.4086213707923889\n",
      "epoch: 12/ iteration: 101/ loss_train: 0.38489705324172974\n",
      "epoch: 12/ iteration: 201/ loss_train: 0.4649209678173065\n",
      "epoch: 0012 loss_train: 0.4019 auroc_train: 0.8869 loss_val: 0.4075 auroc_val: 0.8821 auprc_val: 0.8609 f1_val: 0.8004 time: 265.5338s\n",
      "-------- Epoch 13 --------\n",
      "epoch: 13/ iteration: 1/ loss_train: 0.32883965969085693\n",
      "epoch: 13/ iteration: 101/ loss_train: 0.41686883568763733\n",
      "epoch: 13/ iteration: 201/ loss_train: 0.3538457155227661\n",
      "epoch: 0013 loss_train: 0.3778 auroc_train: 0.8868 loss_val: 0.4977 auroc_val: 0.8817 auprc_val: 0.8602 f1_val: 0.7735 time: 266.1774s\n",
      "-------- Epoch 14 --------\n",
      "epoch: 14/ iteration: 1/ loss_train: 0.38695797324180603\n",
      "epoch: 14/ iteration: 101/ loss_train: 0.4313621520996094\n",
      "epoch: 14/ iteration: 201/ loss_train: 0.4615299701690674\n",
      "epoch: 0014 loss_train: 0.4976 auroc_train: 0.8872 loss_val: 0.3824 auroc_val: 0.8818 auprc_val: 0.8595 f1_val: 0.7801 time: 265.6977s\n",
      "-------- Epoch 15 --------\n",
      "epoch: 15/ iteration: 1/ loss_train: 0.3877491354942322\n",
      "epoch: 15/ iteration: 101/ loss_train: 0.4082910418510437\n",
      "epoch: 15/ iteration: 201/ loss_train: 0.37744835019111633\n",
      "epoch: 0015 loss_train: 0.4006 auroc_train: 0.8871 loss_val: 0.4324 auroc_val: 0.8821 auprc_val: 0.8609 f1_val: 0.7581 time: 250.5711s\n",
      "Optimization Finished!\n",
      "Total time elapsed: 3956.1910s\n",
      "loss_test: 0.4170 auroc_test: 0.8862 auprc_test: 0.8658 f1_test: 0.8059\n"
     ]
    }
   ],
   "source": [
    "!python train_link_prediction_IGCN_node_feat.py \\\n",
    "    --epochs 15 \\\n",
    "    --lr 5e-4 \\\n",
    "    --batch_size 256 \\\n",
    "    --hidden1 64 \\\n",
    "    --hidden2 16 \\\n",
    "    --hidden_decode1 512 \\\n",
    "    --network_type DDI \\\n",
    "    --data_path '../../../../scratch/kh2383/IGCN/data/DDI/BIOSNAP_Full/fold2'"
   ]
  },
  {
   "cell_type": "code",
   "execution_count": null,
   "metadata": {},
   "outputs": [],
   "source": []
  },
  {
   "cell_type": "code",
   "execution_count": null,
   "metadata": {},
   "outputs": [],
   "source": []
  }
 ],
 "metadata": {
  "kernelspec": {
   "display_name": "Python 3",
   "language": "python",
   "name": "python3"
  },
  "language_info": {
   "codemirror_mode": {
    "name": "ipython",
    "version": 3
   },
   "file_extension": ".py",
   "mimetype": "text/x-python",
   "name": "python",
   "nbconvert_exporter": "python",
   "pygments_lexer": "ipython3",
   "version": "3.7.7"
  }
 },
 "nbformat": 4,
 "nbformat_minor": 2
}
