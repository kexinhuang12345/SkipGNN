{
 "cells": [
  {
   "cell_type": "code",
   "execution_count": 1,
   "metadata": {},
   "outputs": [],
   "source": [
    "import pandas as pd\n",
    "import numpy as np\n",
    "import matplotlib.pyplot as plt\n",
    "import random\n",
    "from itertools import product \n"
   ]
  },
  {
   "cell_type": "code",
   "execution_count": 2,
   "metadata": {},
   "outputs": [],
   "source": [
    "gdi = pd.read_csv('./GDI/curated_gene_disease_associations.tsv', sep = '\\t')\n",
    "gdi = gdi[['geneId','diseaseId']]\n",
    "gene = list(set(gdi['geneId'].tolist()))\n",
    "disease = list(set(gdi['diseaseId'].tolist()))\n",
    "\n",
    "pd.DataFrame(list(set(gdi['geneId'].tolist() + gdi['diseaseId'].tolist()))).rename(columns={0: \"Entity_ID\"}).to_csv('./GDI/entity_list.csv')\n",
    "entity_list = pd.DataFrame(list(set(gdi['geneId'].tolist() + gdi['diseaseId'].tolist()))).rename(columns={0: \"Entity_ID\"})"
   ]
  },
  {
   "cell_type": "code",
   "execution_count": 3,
   "metadata": {},
   "outputs": [],
   "source": [
    "# It is too large a number to do combination from., \n",
    "# we use the alternative method than DDI, DTI, PPI below. \n",
    "# Basically, sample a fixed number for each node, instead of do combination"
   ]
  },
  {
   "cell_type": "code",
   "execution_count": 4,
   "metadata": {},
   "outputs": [],
   "source": [
    "comb = []\n",
    "for i in gene:\n",
    "    comb = comb + (list(zip([i] * 20, random.choices(disease, k = 20))))\n",
    "    \n",
    "for j in disease:\n",
    "    comb = comb + (list(zip(random.choices(gene, k = 20), [i] * 20)))"
   ]
  },
  {
   "cell_type": "code",
   "execution_count": 5,
   "metadata": {},
   "outputs": [],
   "source": [
    "pos = [(i[0], i[1]) for i in (gdi.values)]\n",
    "neg = list(set(comb) - set(pos))\n",
    "comb_flipped = [(i[1], i[0]) for i in comb]\n",
    "neg_2 = list(set(comb_flipped) - set(pos))\n",
    "neg_2 = [(i[1], i[0]) for i in neg_2]\n",
    "neg_final = list(set(neg) & set(neg_2))\n",
    "\n",
    "random.seed(a = 1)\n",
    "neg_sample = random.sample(neg_final, len(gdi))\n",
    "\n",
    "df = pd.DataFrame(pos+neg_sample)\n",
    "df['label'] = np.array([1]*len(pos) + [0]*len(neg_sample))\n",
    "\n",
    "df = df.rename({0:'Gene_ID', 1:'Disease_ID'}, axis = 1)"
   ]
  },
  {
   "cell_type": "code",
   "execution_count": 6,
   "metadata": {},
   "outputs": [],
   "source": [
    "def create_fold(df, x):\n",
    "    test = df.sample(frac = 0.2, replace = False, random_state = x)\n",
    "    train_val = df[~df.index.isin(test.index)]\n",
    "    val = train_val.sample(frac = 0.125, replace = False, random_state = 1)\n",
    "    train = train_val[~train_val.index.isin(val.index)]\n",
    "    \n",
    "    path = './GDI/fold'+str(x)\n",
    "    train.reset_index(drop = True).to_csv(path + '/train.csv')\n",
    "    val.reset_index(drop = True).to_csv(path + '/val.csv')\n",
    "    test.reset_index(drop = True).to_csv(path + '/test.csv')\n",
    "    \n",
    "    return train, val, test"
   ]
  },
  {
   "cell_type": "code",
   "execution_count": 8,
   "metadata": {},
   "outputs": [],
   "source": [
    "fold_n = 1\n",
    "#!mkdir './GDI/fold{fold_n}'\n",
    "# uncommand the above line, if fold_n is not 1, since I have already created fold_1\n",
    "train, val, test = create_fold(df, fold_n)"
   ]
  },
  {
   "cell_type": "code",
   "execution_count": null,
   "metadata": {},
   "outputs": [],
   "source": []
  }
 ],
 "metadata": {
  "kernelspec": {
   "display_name": "Python 3",
   "language": "python",
   "name": "python3"
  },
  "language_info": {
   "codemirror_mode": {
    "name": "ipython",
    "version": 3
   },
   "file_extension": ".py",
   "mimetype": "text/x-python",
   "name": "python",
   "nbconvert_exporter": "python",
   "pygments_lexer": "ipython3",
   "version": "3.7.4"
  }
 },
 "nbformat": 4,
 "nbformat_minor": 2
}
